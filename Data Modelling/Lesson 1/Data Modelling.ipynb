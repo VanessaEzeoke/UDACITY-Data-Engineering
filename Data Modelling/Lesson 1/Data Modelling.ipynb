{
 "cells": [
  {
   "cell_type": "markdown",
   "id": "0a1b5f3e",
   "metadata": {},
   "source": [
    "### Refresher on PSQL and postGres"
   ]
  },
  {
   "cell_type": "code",
   "execution_count": null,
   "id": "f6cbad68",
   "metadata": {},
   "outputs": [],
   "source": [
    "## for when I saw struggling to start post gres the old school way\n",
    "!brew services restart postgresql"
   ]
  },
  {
   "cell_type": "code",
   "execution_count": null,
   "id": "763bf2fe",
   "metadata": {},
   "outputs": [],
   "source": [
    "#to open post gres environment\n",
    "!psql postgres"
   ]
  },
  {
   "cell_type": "code",
   "execution_count": null,
   "id": "a8d0438e",
   "metadata": {},
   "outputs": [],
   "source": [
    "#list all databases in postgres local instance\n",
    "! \\l\n",
    "#Create and drop db\n",
    "createdb <tablename>\n",
    "dropdb <tablename>"
   ]
  },
  {
   "cell_type": "code",
   "execution_count": null,
   "id": "78d990e5",
   "metadata": {},
   "outputs": [],
   "source": [
    "Starts psql with a connection to dbname. Optionally use another user than current user\n",
    "#psql <dbname> [<username>]\n",
    "\n",
    "\n",
    "In psql:\n",
    "List all databases on the server, their owners, and user access levels\n",
    "# \\l\n",
    "\n",
    "Connect to a database named\n",
    "\n",
    "# \\c <dbname>\n",
    "\n",
    "Show database tables\n",
    "\n",
    "# \\dt\n",
    "\n",
    "Create table in psql\n",
    "\n",
    "# create table test123 (col1 int, col2 int, col3 int);commit;\n",
    "\n",
    "Describe table schema\n",
    "\n",
    "# \\d <tablename>\n",
    "\n",
    "Quit psql, return to the terminal\n",
    "\n",
    "# \\q\n",
    "\n",
    "Get help, see list of available commands\n",
    "\n",
    "# \\?"
   ]
  },
  {
   "cell_type": "markdown",
   "id": "00ac579c",
   "metadata": {},
   "source": [
    "### Data Modelling: setting up"
   ]
  },
  {
   "cell_type": "code",
   "execution_count": 1,
   "id": "2997a94d",
   "metadata": {},
   "outputs": [],
   "source": [
    "import psycopg2"
   ]
  },
  {
   "cell_type": "code",
   "execution_count": 5,
   "id": "379303c5",
   "metadata": {},
   "outputs": [],
   "source": [
    "conn= psycopg2.connect(\"host= 127.0.0.1 dbname= Udacitydb user=sunshine_e \")"
   ]
  },
  {
   "cell_type": "code",
   "execution_count": 7,
   "id": "35c9c6ff",
   "metadata": {},
   "outputs": [],
   "source": [
    "cursor= conn.cursor()"
   ]
  },
  {
   "cell_type": "code",
   "execution_count": 8,
   "id": "b6367b61",
   "metadata": {},
   "outputs": [],
   "source": [
    "cursor.execute(\"select * from test123\")"
   ]
  },
  {
   "cell_type": "code",
   "execution_count": 11,
   "id": "023dd926",
   "metadata": {},
   "outputs": [],
   "source": [
    "cursor.execute(\"create table check_syntax (info varchar[50],col1 bool, flag char[1] );commit\")"
   ]
  },
  {
   "cell_type": "code",
   "execution_count": 14,
   "id": "d2c0dc59",
   "metadata": {},
   "outputs": [
    {
     "data": {
      "text/plain": [
       "[(0,)]"
      ]
     },
     "execution_count": 14,
     "metadata": {},
     "output_type": "execute_result"
    }
   ],
   "source": [
    "cursor.execute(\"select count(*) from check_syntax\")\n",
    "cursor.fetchall()"
   ]
  },
  {
   "cell_type": "code",
   "execution_count": 23,
   "id": "3ddd8405",
   "metadata": {},
   "outputs": [
    {
     "ename": "ProgrammingError",
     "evalue": "set_session cannot be used inside a transaction",
     "output_type": "error",
     "traceback": [
      "\u001b[0;31m---------------------------------------------------------------------------\u001b[0m",
      "\u001b[0;31mProgrammingError\u001b[0m                          Traceback (most recent call last)",
      "\u001b[0;32m<ipython-input-23-452792741ac5>\u001b[0m in \u001b[0;36m<module>\u001b[0;34m\u001b[0m\n\u001b[1;32m      1\u001b[0m \u001b[0;31m## setting autocommit to True. Making each action a transaction\u001b[0m\u001b[0;34m\u001b[0m\u001b[0;34m\u001b[0m\u001b[0;34m\u001b[0m\u001b[0m\n\u001b[0;32m----> 2\u001b[0;31m \u001b[0mconn\u001b[0m\u001b[0;34m.\u001b[0m\u001b[0mset_session\u001b[0m\u001b[0;34m(\u001b[0m \u001b[0mautocommit\u001b[0m\u001b[0;34m=\u001b[0m\u001b[0;32mTrue\u001b[0m\u001b[0;34m)\u001b[0m\u001b[0;34m\u001b[0m\u001b[0;34m\u001b[0m\u001b[0m\n\u001b[0m",
      "\u001b[0;31mProgrammingError\u001b[0m: set_session cannot be used inside a transaction"
     ]
    }
   ],
   "source": [
    "## setting autocommit to True. Making each action a transaction\n",
    "conn.set_session(autocommit=True)"
   ]
  },
  {
   "cell_type": "markdown",
   "id": "de97c55f",
   "metadata": {},
   "source": [
    "### Data Modelling: Creating tables"
   ]
  },
  {
   "cell_type": "code",
   "execution_count": 76,
   "id": "3a429cc5",
   "metadata": {},
   "outputs": [],
   "source": [
    "conn= psycopg2.connect(\"host= 127.0.0.1 user=sunshine_e \")\n",
    "conn.set_session(autocommit=True)"
   ]
  },
  {
   "cell_type": "code",
   "execution_count": 77,
   "id": "c20a209c",
   "metadata": {},
   "outputs": [
    {
     "name": "stdout",
     "output_type": "stream",
     "text": [
      "relation \"udacity.musiclibrary\" does not exist\n",
      "LINE 1: select * from udacity.MusicLibrary\n",
      "                      ^\n",
      "\n"
     ]
    }
   ],
   "source": [
    "try:\n",
    "    cursor.execute(\"select * from udacity.MusicLibrary\")\n",
    "except psycopg2.Error as e:\n",
    "    print(e)"
   ]
  },
  {
   "cell_type": "code",
   "execution_count": 78,
   "id": "2da52aa8",
   "metadata": {},
   "outputs": [
    {
     "name": "stdout",
     "output_type": "stream",
     "text": [
      "database \"udacity\" already exists\n",
      "\n"
     ]
    }
   ],
   "source": [
    "try:\n",
    "    cursor.execute(\"create database Udacity\")\n",
    "except psycopg2.Error as e:\n",
    "    print(e)"
   ]
  },
  {
   "cell_type": "code",
   "execution_count": 79,
   "id": "6e69a29a",
   "metadata": {},
   "outputs": [],
   "source": [
    "try:\n",
    "    conn.close()\n",
    "except psycopg2.Error as e:\n",
    "    print(e) "
   ]
  },
  {
   "cell_type": "code",
   "execution_count": 80,
   "id": "38575f5b",
   "metadata": {},
   "outputs": [],
   "source": [
    "try:\n",
    "    conn=psycopg2.connect('host= 127.0.0.1  user=sunshine_e dbname=udacity')\n",
    "except psycopg2.Error as e:\n",
    "    print(\"Error: could not connect to the database\")\n",
    "    print(e)"
   ]
  },
  {
   "cell_type": "code",
   "execution_count": 81,
   "id": "2a995625",
   "metadata": {},
   "outputs": [],
   "source": [
    "try:\n",
    "    cursor= conn.cursor()\n",
    "except psycopg2.Error as e:\n",
    "    print(\"Error: could not connect cursor to the database\")\n",
    "    print(e)\n",
    "\n",
    "conn.set_session(autocommit=True)"
   ]
  },
  {
   "cell_type": "code",
   "execution_count": 82,
   "id": "9a3296d1",
   "metadata": {},
   "outputs": [],
   "source": [
    "try:\n",
    "    cursor.execute(\"CREATE TABLE IF NOT EXISTS music_library(album_name varchar, artist_name varchar, year int);\")\n",
    "except psycopg2.Error as e:\n",
    "    print(\"Error: could not create table in the database\")\n",
    "    print(e)"
   ]
  },
  {
   "cell_type": "code",
   "execution_count": 83,
   "id": "197d3f4c",
   "metadata": {},
   "outputs": [
    {
     "name": "stdout",
     "output_type": "stream",
     "text": [
      "[(0,)]\n"
     ]
    }
   ],
   "source": [
    "try:\n",
    "    cursor.execute(\"select count(*) from music_library\")\n",
    "except psycopg2.Error as e:\n",
    "    print(\"Error: could not create table in the database\")\n",
    "    print(e)\n",
    "    \n",
    "print(cursor.fetchall())"
   ]
  },
  {
   "cell_type": "code",
   "execution_count": 84,
   "id": "818d2a67",
   "metadata": {},
   "outputs": [],
   "source": [
    "try:\n",
    "    cursor.execute(\"INSERT INTO music_library (album_name , artist_name , year )\\\n",
    "                   VALUES(%s, %s, %s)\", \\\n",
    "                   ('B\\'Day', 'Beyonce', 2006))\n",
    "except psycopg2.Error as e:\n",
    "    print(\"Error: could not insert into table in the database\")\n",
    "    print(e)\n",
    "\n",
    "try:\n",
    "    cursor.execute(\"INSERT INTO music_library (album_name , artist_name , year )\\\n",
    "                   VALUES(%s, %s, %s)\", \\\n",
    "                   ('Dangerously In love', 'Beyonce', 2003))\n",
    "except psycopg2.Error as e:\n",
    "    print(\"Error: could not insert into table in the database\")\n",
    "    print(e)\n",
    "    "
   ]
  },
  {
   "cell_type": "code",
   "execution_count": 85,
   "id": "d5b017db",
   "metadata": {},
   "outputs": [
    {
     "name": "stdout",
     "output_type": "stream",
     "text": [
      "(\"B'Day\", 'Beyonce', 2006)\n",
      "('Dangerously In love', 'Beyonce', 2003)\n"
     ]
    }
   ],
   "source": [
    "#postgres allows duplicate values\n",
    "try:\n",
    "    cursor.execute(\"select * from music_library\")\n",
    "except psycopg2.Error as e:\n",
    "    print(\"Error: could not select *\")\n",
    "    print(e)\n",
    "\n",
    "row= cursor.fetchone()\n",
    "while row:\n",
    "    print(row)\n",
    "    row=cursor.fetchone()"
   ]
  },
  {
   "cell_type": "markdown",
   "id": "cff6a0cd",
   "metadata": {},
   "source": [
    "#### dropping the table and db"
   ]
  },
  {
   "cell_type": "code",
   "execution_count": 86,
   "id": "c57fe765",
   "metadata": {},
   "outputs": [],
   "source": [
    "try:\n",
    "    cursor.execute(\"drop table music_library\")\n",
    "except psycopg2.Error as e:\n",
    "    print(\"Error: could not drop table\")\n",
    "    print(e)"
   ]
  },
  {
   "cell_type": "markdown",
   "id": "27187a44",
   "metadata": {},
   "source": [
    "#### closing cursor and connection"
   ]
  },
  {
   "cell_type": "code",
   "execution_count": 87,
   "id": "75c73a76",
   "metadata": {},
   "outputs": [],
   "source": [
    "cursor.close()\n",
    "conn.close()"
   ]
  },
  {
   "cell_type": "markdown",
   "id": "7dcc0f89",
   "metadata": {},
   "source": [
    "### NoSQL data Modelling"
   ]
  },
  {
   "cell_type": "code",
   "execution_count": 88,
   "id": "484bc66c",
   "metadata": {},
   "outputs": [
    {
     "name": "stdout",
     "output_type": "stream",
     "text": [
      "\u001b[31mERROR: Could not find a version that satisfies the requirement cassandra (from versions: none)\u001b[0m\n",
      "\u001b[31mERROR: No matching distribution found for cassandra\u001b[0m\n",
      "\u001b[33mWARNING: You are using pip version 21.3.1; however, version 22.2.2 is available.\n",
      "You should consider upgrading via the '/opt/anaconda3/bin/python -m pip install --upgrade pip' command.\u001b[0m\n"
     ]
    }
   ],
   "source": [
    "import cassandra"
   ]
  },
  {
   "cell_type": "code",
   "execution_count": null,
   "id": "30b74a5d",
   "metadata": {},
   "outputs": [],
   "source": [
    "from cassandra.cluster import Cluster\n",
    "try:\n",
    "    cluster=Cluster(['127.0.0.1'])\n",
    "    session= cluster.connect()\n",
    "except Exception as e:\n",
    "    print(\"Error: could notconnect\")\n",
    "    print(e)"
   ]
  },
  {
   "cell_type": "code",
   "execution_count": null,
   "id": "99c048e1",
   "metadata": {},
   "outputs": [],
   "source": [
    "#creating keyspace/DB\n",
    "try:\n",
    "    session.execute(\"\"\"CREATE KEYSPACE IF NOT EXISTS udacity \\\n",
    "    WITH REPLICATION ={ 'class' : 'SimpleStrategy', 'replication_factor' : 1\"\"\")\n",
    "except Exception as e:\n",
    "    print(e)"
   ]
  },
  {
   "cell_type": "code",
   "execution_count": null,
   "id": "38b30d10",
   "metadata": {},
   "outputs": [],
   "source": [
    "try:\n",
    "    session.set_keyspace('udacity'),\n",
    "except Exception as e:\n",
    "    print(e)\""
   ]
  },
  {
   "cell_type": "code",
   "execution_count": null,
   "id": "d389cb80",
   "metadata": {},
   "outputs": [],
   "source": [
    "query = \"CREATE TABLE IF NOT EXISTS music_library\"\n",
    "query = query + \\\"(year int, artist_name text, album_name text, PRIMARY KEY (year, artist_name))\"\n",
    "\n",
    "try:\n",
    "    session.execute(query)\n",
    "except Exception as e:\n",
    "    print(e)"
   ]
  },
  {
   "cell_type": "code",
   "execution_count": null,
   "id": "1a4169a7",
   "metadata": {},
   "outputs": [],
   "source": [
    "# Apache does not allow for duplicates so thiscan be run multiple times unlike postgres\n",
    "query = \"INSERT INTO music_library (year, artist_name, album_name)\"\n",
    "query = query + \" VALUES (%s, %s, %s)\"\n",
    "\n",
    "try:\n",
    "    session.execute(query, (1970, \"The Beatles\", \"Let it Be\"))\n",
    "except Exception as e:\n",
    "    print(e)\n",
    "\n",
    "try:\n",
    "    session.execute(query, (1965, \"The Beatles\", \"Rubber Soul\"))\n",
    "except Exception as e:\n",
    "    print(e)"
   ]
  },
  {
   "cell_type": "code",
   "execution_count": null,
   "id": "1d615578",
   "metadata": {},
   "outputs": [],
   "source": [
    "session.shutdown()\n",
    "cluster.shutdown()"
   ]
  }
 ],
 "metadata": {
  "kernelspec": {
   "display_name": "Python 3",
   "language": "python",
   "name": "python3"
  },
  "language_info": {
   "codemirror_mode": {
    "name": "ipython",
    "version": 3
   },
   "file_extension": ".py",
   "mimetype": "text/x-python",
   "name": "python",
   "nbconvert_exporter": "python",
   "pygments_lexer": "ipython3",
   "version": "3.8.8"
  }
 },
 "nbformat": 4,
 "nbformat_minor": 5
}
